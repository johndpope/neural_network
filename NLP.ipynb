{
 "cells": [
  {
   "cell_type": "code",
   "execution_count": 3,
   "metadata": {
    "collapsed": true
   },
   "outputs": [],
   "source": [
    "from keras.layers import Embedding\n",
    "\n",
    "# The Embedding layer takes at least two arguments:\n",
    "# the number of possible tokens, here 1000 (1 + maximum word index),\n",
    "# and the dimensionality of the embeddings, here 64.\n",
    "embedding_layer = Embedding(1000, 64)"
   ]
  },
  {
   "cell_type": "code",
   "execution_count": 47,
   "metadata": {},
   "outputs": [],
   "source": [
    "from keras.datasets import reuters\n",
    "from keras import preprocessing\n",
    "\n",
    "# Number of words to consider as features\n",
    "max_features = 15000\n",
    "# Cut texts after this number of words \n",
    "# (among top max_features most common words)\n",
    "maxlen = 100\n",
    "\n",
    "# Load the data as lists of integers.\n",
    "(x_train, y_train), (x_test, y_test) = reuters.load_data(num_words=max_features)\n",
    "\n",
    "# This turns our lists of integers\n",
    "# into a 2D integer tensor of shape `(samples, maxlen)`\n",
    "x_train = preprocessing.sequence.pad_sequences(x_train, maxlen=maxlen)\n",
    "x_test = preprocessing.sequence.pad_sequences(x_test, maxlen=maxlen)\n"
   ]
  },
  {
   "cell_type": "code",
   "execution_count": 49,
   "metadata": {},
   "outputs": [
    {
     "name": "stdout",
     "output_type": "stream",
     "text": [
      "_________________________________________________________________\n",
      "Layer (type)                 Output Shape              Param #   \n",
      "=================================================================\n",
      "embedding_41 (Embedding)     (None, 100, 128)          1920000   \n",
      "_________________________________________________________________\n",
      "lstm_7 (LSTM)                (None, 32)                20608     \n",
      "_________________________________________________________________\n",
      "dense_62 (Dense)             (None, 64)                2112      \n",
      "_________________________________________________________________\n",
      "dense_63 (Dense)             (None, 46)                2990      \n",
      "=================================================================\n",
      "Total params: 1,945,710\n",
      "Trainable params: 1,945,710\n",
      "Non-trainable params: 0\n",
      "_________________________________________________________________\n",
      "Train on 7185 samples, validate on 1797 samples\n",
      "Epoch 1/10\n",
      "7185/7185 [==============================] - 61s 9ms/step - loss: 2.4288 - acc: 0.4014 - val_loss: 1.9809 - val_acc: 0.4825\n",
      "Epoch 2/10\n",
      "7185/7185 [==============================] - 60s 8ms/step - loss: 1.8337 - acc: 0.5191 - val_loss: 1.7208 - val_acc: 0.5481\n",
      "Epoch 3/10\n",
      "7185/7185 [==============================] - 60s 8ms/step - loss: 1.5575 - acc: 0.5773 - val_loss: 1.6577 - val_acc: 0.5654\n",
      "Epoch 4/10\n",
      "7185/7185 [==============================] - 60s 8ms/step - loss: 1.3943 - acc: 0.6161 - val_loss: 1.5749 - val_acc: 0.6088\n",
      "Epoch 5/10\n",
      "7185/7185 [==============================] - 60s 8ms/step - loss: 1.2021 - acc: 0.6804 - val_loss: 1.5997 - val_acc: 0.5977\n",
      "Epoch 6/10\n",
      "7185/7185 [==============================] - 60s 8ms/step - loss: 1.0354 - acc: 0.7272 - val_loss: 1.5910 - val_acc: 0.6183\n",
      "Epoch 7/10\n",
      "7185/7185 [==============================] - 5061s 704ms/step - loss: 0.8778 - acc: 0.7687 - val_loss: 1.6037 - val_acc: 0.6461\n",
      "Epoch 8/10\n",
      "7185/7185 [==============================] - 13295s 2s/step - loss: 0.7450 - acc: 0.8032 - val_loss: 1.7327 - val_acc: 0.5993\n",
      "Epoch 9/10\n",
      "7185/7185 [==============================] - 61s 8ms/step - loss: 0.6490 - acc: 0.8277 - val_loss: 1.7506 - val_acc: 0.6299\n",
      "Epoch 10/10\n",
      "7185/7185 [==============================] - 61s 8ms/step - loss: 0.5434 - acc: 0.8529 - val_loss: 1.8532 - val_acc: 0.6322\n",
      "2246/2246 [==============================] - 3s 1ms/step\n",
      "Test score: 2.005638231895698\n",
      "Test accuracy: 0.6175422974176313\n"
     ]
    }
   ],
   "source": [
    "from keras.models import Sequential\n",
    "from keras.layers import Flatten, Dense\n",
    "from keras.layers import *\n",
    "from keras import layers\n",
    "\n",
    "model = Sequential()\n",
    "# We specify the maximum input length to our Embedding layer\n",
    "# so we can later flatten the embedded inputs\n",
    "model.add(Embedding(15000, 128, input_length=maxlen))\n",
    "# After the Embedding layer, \n",
    "# our activations have shape `(samples, maxlen, 8)`.\n",
    "\n",
    "# We flatten the 3D tensor of embeddings \n",
    "# into a 2D tensor of shape `(samples, maxlen * 8)`\n",
    "#model.add(Flatten())\n",
    "\n",
    "# We add the classifier on top\n",
    "\n",
    "model.add(layers.LSTM(32))\n",
    "#model.add(LSTM(100, dropout=0.2, recurrent_dropout=0.2))\n",
    "model.add(Dense(64, activation='relu', input_dim=100))\n",
    "model.add(Dense(46, activation='softmax'))\n",
    "model.compile(optimizer='adam', loss='sparse_categorical_crossentropy', metrics=['accuracy'])\n",
    "model.summary()\n",
    "\n",
    "history = model.fit(x_train, y_train,\n",
    "                    epochs=10,\n",
    "                    batch_size=32,\n",
    "                    validation_split=0.2)\n",
    "\n",
    "score = model.evaluate(x_test, y_test,\n",
    "                       batch_size=32, verbose=1)\n",
    "print('Test score:', score[0])\n",
    "print('Test accuracy:', score[1])"
   ]
  },
  {
   "cell_type": "code",
   "execution_count": 50,
   "metadata": {},
   "outputs": [
    {
     "data": {
      "image/png": "[encoded data removed]",
      "text/plain": [
       "<matplotlib.figure.Figure at 0x12bcdbba8>"
      ]
     },
     "metadata": {},
     "output_type": "display_data"
    },
    {
     "data": {
      "image/png": "[encoded data removed]",
      "text/plain": [
       "<matplotlib.figure.Figure at 0x13176a9e8>"
      ]
     },
     "metadata": {},
     "output_type": "display_data"
    }
   ],
   "source": [
    "import matplotlib.pyplot as plt\n",
    "acc = history.history['acc']\n",
    "val_acc = history.history['val_acc']\n",
    "loss = history.history['loss']\n",
    "val_loss = history.history['val_loss']\n",
    "\n",
    "epochs = range(1, len(acc) + 1)\n",
    "\n",
    "plt.plot(epochs, acc, 'bo', label='Training acc')\n",
    "plt.plot(epochs, val_acc, 'b', label='Validation acc')\n",
    "plt.title('Training and validation accuracy')\n",
    "plt.legend()\n",
    "\n",
    "plt.figure()\n",
    "\n",
    "plt.plot(epochs, loss, 'bo', label='Training loss')\n",
    "plt.plot(epochs, val_loss, 'b', label='Validation loss')\n",
    "plt.title('Training and validation loss')\n",
    "plt.legend()\n",
    "\n",
    "plt.show()"
   ]
  },
  {
   "cell_type": "code",
   "execution_count": null,
   "metadata": {
    "collapsed": true
   },
   "outputs": [],
   "source": []
  },
  {
   "cell_type": "code",
   "execution_count": null,
   "metadata": {
    "collapsed": true
   },
   "outputs": [],
   "source": []
  },
  {
   "cell_type": "code",
   "execution_count": null,
   "metadata": {
    "collapsed": true
   },
   "outputs": [],
   "source": []
  },
  {
   "cell_type": "code",
   "execution_count": null,
   "metadata": {
    "collapsed": true
   },
   "outputs": [],
   "source": []
  },
  {
   "cell_type": "code",
   "execution_count": null,
   "metadata": {
    "collapsed": true
   },
   "outputs": [],
   "source": []
  }
 ],
 "metadata": {
  "kernelspec": {
   "display_name": "Python 3",
   "language": "python",
   "name": "python3"
  },
  "language_info": {
   "codemirror_mode": {
    "name": "ipython",
    "version": 3
   },
   "file_extension": ".py",
   "mimetype": "text/x-python",
   "name": "python",
   "nbconvert_exporter": "python",
   "pygments_lexer": "ipython3",
   "version": "3.6.1"
  }
 },
 "nbformat": 4,
 "nbformat_minor": 2
}
